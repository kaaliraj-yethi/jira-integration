{
 "cells": [
  {
   "cell_type": "code",
   "execution_count": 18,
   "id": "be12388d-c98d-4485-8c41-ccaa148dee2c",
   "metadata": {},
   "outputs": [],
   "source": [
    "email = \"\"\n",
    "api_token = \"\"\n",
    "\n"
   ]
  },
  {
   "cell_type": "code",
   "execution_count": 19,
   "id": "b690a3f4-98b3-46df-afdf-ff8e9cfbe637",
   "metadata": {},
   "outputs": [],
   "source": [
    "\n",
    "email = \"\"\n",
    "api_token = \"\"\n",
    "\n",
    "from llama_index.readers.jira import JiraReader\n",
    "\n",
    "reader = JiraReader(\n",
    "    email=email, api_token=api_token, server_url=\"\"\n",
    ")\n",
    "documents = reader.load_data(query=\"project = TAC\")"
   ]
  },
  {
   "cell_type": "code",
   "execution_count": 20,
   "id": "9f1ca341-d583-4065-8a0a-68414366d023",
   "metadata": {},
   "outputs": [
    {
     "data": {
      "text/plain": [
       "[Document(id_='17eb3d31-24b3-4ad7-8eb5-d1b3fac446a6', embedding=None, metadata={'id': '37884', 'title': 'Jira Integration for requirements documents for test design', 'url': 'https://tenjin-automation.atlassian.net/browse/TAC-304', 'created_at': '2024-06-17T13:10:49.320+0530', 'updated_at': '2024-06-18T10:57:51.641+0530', 'labels': [], 'status': 'In Progress', 'assignee': '', 'reporter': '', 'project': 'Tenjin_ai_core', 'issue_type': 'Task', 'priority': 'Lowest', 'epic_key': '', 'epic_summary': '', 'epic_description': ''}, excluded_embed_metadata_keys=[], excluded_llm_metadata_keys=[], relationships={}, text='Jira Integration for requirements documents for test design \\n None', start_char_idx=None, end_char_idx=None, text_template='{metadata_str}\\n\\n{content}', metadata_template='{key}: {value}', metadata_seperator='\\n'),\n",
       " Document(id_='7579a4ea-3217-4e0c-9faa-645189fd38c7', embedding=None, metadata={'id': '37883', 'title': 'Move coverage matrix to openai assistant', 'url': 'https://tenjin-automation.atlassian.net/browse/TAC-303', 'created_at': '2024-06-17T13:07:14.100+0530', 'updated_at': '2024-06-17T13:07:55.359+0530', 'labels': [], 'status': 'In Progress', 'assignee': '', 'reporter': '', 'project': 'Tenjin_ai_core', 'issue_type': 'Task', 'priority': 'Lowest', 'epic_key': '', 'epic_summary': '', 'epic_description': ''}, excluded_embed_metadata_keys=[], excluded_llm_metadata_keys=[], relationships={}, text='Move coverage matrix to openai assistant \\n None', start_char_idx=None, end_char_idx=None, text_template='{metadata_str}\\n\\n{content}', metadata_template='{key}: {value}', metadata_seperator='\\n'),\n",
       " Document(id_='76e7c98f-1873-4bdf-9e00-8a97c1148961', embedding=None, metadata={'id': '37875', 'title': 'Evaluation of Internal LLM', 'url': 'https://tenjin-automation.atlassian.net/browse/TAC-302', 'created_at': '2024-06-17T12:22:39.101+0530', 'updated_at': '2024-06-17T12:22:50.664+0530', 'labels': [], 'status': 'To Do', 'assignee': '', 'reporter': '', 'project': 'Tenjin_ai_core', 'issue_type': 'Task', 'priority': 'Lowest', 'epic_key': '', 'epic_summary': '', 'epic_description': ''}, excluded_embed_metadata_keys=[], excluded_llm_metadata_keys=[], relationships={}, text='Evaluation of Internal LLM \\n None', start_char_idx=None, end_char_idx=None, text_template='{metadata_str}\\n\\n{content}', metadata_template='{key}: {value}', metadata_seperator='\\n'),\n",
       " Document(id_='2e5462d1-8f2d-460b-a133-5be7481b7f74', embedding=None, metadata={'id': '37874', 'title': 'Finetuning on RTM data', 'url': 'https://tenjin-automation.atlassian.net/browse/TAC-301', 'created_at': '2024-06-17T12:17:44.789+0530', 'updated_at': '2024-06-17T12:17:53.867+0530', 'labels': [], 'status': 'To Do', 'assignee': '', 'reporter': '', 'project': 'Tenjin_ai_core', 'issue_type': 'Task', 'priority': 'Lowest', 'epic_key': '', 'epic_summary': '', 'epic_description': ''}, excluded_embed_metadata_keys=[], excluded_llm_metadata_keys=[], relationships={}, text='Finetuning on RTM data \\n None', start_char_idx=None, end_char_idx=None, text_template='{metadata_str}\\n\\n{content}', metadata_template='{key}: {value}', metadata_seperator='\\n'),\n",
       " Document(id_='36d21773-5ed3-46bd-99eb-6c5ae87e8db2', embedding=None, metadata={'id': '37873', 'title': 'Coverage Matrix to be brought into RAG', 'url': 'https://tenjin-automation.atlassian.net/browse/TAC-300', 'created_at': '2024-06-17T12:16:35.701+0530', 'updated_at': '2024-06-17T12:16:51.441+0530', 'labels': [], 'status': 'In Progress', 'assignee': '', 'reporter': '', 'project': 'Tenjin_ai_core', 'issue_type': 'Task', 'priority': 'Lowest', 'epic_key': '', 'epic_summary': '', 'epic_description': ''}, excluded_embed_metadata_keys=[], excluded_llm_metadata_keys=[], relationships={}, text='Coverage Matrix to be brought into RAG \\n None', start_char_idx=None, end_char_idx=None, text_template='{metadata_str}\\n\\n{content}', metadata_template='{key}: {value}', metadata_seperator='\\n'),\n",
       " Document(id_='4bc0e96a-3f15-4832-9a64-391df02fe6bb', embedding=None, metadata={'id': '37872', 'title': 'Scenarios are missing', 'url': 'https://tenjin-automation.atlassian.net/browse/TAC-299', 'created_at': '2024-06-17T12:06:06.092+0530', 'updated_at': '2024-06-17T12:06:24.031+0530', 'labels': [], 'status': 'In Progress', 'assignee': '', 'reporter': '', 'project': 'Tenjin_ai_core', 'issue_type': 'Bug', 'priority': 'Lowest', 'epic_key': '', 'epic_summary': '', 'epic_description': ''}, excluded_embed_metadata_keys=[], excluded_llm_metadata_keys=[], relationships={}, text='Scenarios are missing \\n None', start_char_idx=None, end_char_idx=None, text_template='{metadata_str}\\n\\n{content}', metadata_template='{key}: {value}', metadata_seperator='\\n'),\n",
       " Document(id_='da7ee7e8-2d1b-4669-bfb4-c45fdac4550b', embedding=None, metadata={'id': '37743', 'title': 'Test Scenario or Cases are not generated in sequence as per the requirement document', 'url': 'https://tenjin-automation.atlassian.net/browse/TAC-298', 'created_at': '2024-06-10T10:34:00.885+0530', 'updated_at': '2024-06-10T10:34:01.063+0530', 'labels': [], 'status': 'To Do', 'assignee': '', 'reporter': '', 'project': 'Tenjin_ai_core', 'issue_type': 'Bug', 'priority': 'Lowest', 'epic_key': '', 'epic_summary': '', 'epic_description': ''}, excluded_embed_metadata_keys=[], excluded_llm_metadata_keys=[], relationships={}, text='Test Scenario or Cases are not generated in sequence as per the requirement document \\n The test scenarios generated are not in sequence as per the BRD or Coverage Matrix.\\n\\nThe requirement mentioned in last in the BRD is updated as 1st Test scenario.\\n\\nExample:   In Loans, Disbursement is covered as 1st Scenario and Loan creation is shown as 2nd or 3rd Scenario.\\n\\nSimilarly, we observed that same behavior for Test cases in few times. ( Inconsistant)', start_char_idx=None, end_char_idx=None, text_template='{metadata_str}\\n\\n{content}', metadata_template='{key}: {value}', metadata_seperator='\\n'),\n",
       " Document(id_='173b9d7c-066a-41f3-a97c-b114c48ff0e1', embedding=None, metadata={'id': '37736', 'title': 'delete tenant API is not working', 'url': 'https://tenjin-automation.atlassian.net/browse/TAC-297', 'created_at': '2024-06-07T15:44:43.782+0530', 'updated_at': '2024-06-17T12:13:58.042+0530', 'labels': [], 'status': 'To Do', 'assignee': '', 'reporter': '', 'project': 'Tenjin_ai_core', 'issue_type': 'Bug', 'priority': 'Lowest', 'epic_key': '', 'epic_summary': '', 'epic_description': ''}, excluded_embed_metadata_keys=[], excluded_llm_metadata_keys=[], relationships={}, text='delete tenant API is not working \\n None', start_char_idx=None, end_char_idx=None, text_template='{metadata_str}\\n\\n{content}', metadata_template='{key}: {value}', metadata_seperator='\\n'),\n",
       " Document(id_='7cbe2b6c-d188-4ab8-8a08-b6458d3b0340', embedding=None, metadata={'id': '37732', 'title': 'User should upload the file with the exsisting uploaded file name but It overrride the data with current file', 'url': 'https://tenjin-automation.atlassian.net/browse/TAC-296', 'created_at': '2024-06-07T13:10:49.769+0530', 'updated_at': '2024-06-07T13:10:49.838+0530', 'labels': [], 'status': 'To Do', 'assignee': '', 'reporter': '', 'project': 'Tenjin_ai_core', 'issue_type': 'Bug', 'priority': 'Lowest', 'epic_key': '', 'epic_summary': '', 'epic_description': ''}, excluded_embed_metadata_keys=[], excluded_llm_metadata_keys=[], relationships={}, text='User should upload the file with the exsisting uploaded file name but It overrride the data with current file \\n None', start_char_idx=None, end_char_idx=None, text_template='{metadata_str}\\n\\n{content}', metadata_template='{key}: {value}', metadata_seperator='\\n'),\n",
       " Document(id_='327c1015-f49a-4bee-8ee4-9634cd0a7527', embedding=None, metadata={'id': '37731', 'title': 'File is uploaded in Requirement Repo then it should allow to upload with the same name in Test Design and Defect', 'url': 'https://tenjin-automation.atlassian.net/browse/TAC-295', 'created_at': '2024-06-07T13:07:53.563+0530', 'updated_at': '2024-06-12T15:12:35.624+0530', 'labels': [], 'status': 'Done', 'assignee': '', 'reporter': '', 'project': 'Tenjin_ai_core', 'issue_type': 'Bug', 'priority': 'Lowest', 'epic_key': '', 'epic_summary': '', 'epic_description': ''}, excluded_embed_metadata_keys=[], excluded_llm_metadata_keys=[], relationships={}, text='File is uploaded in Requirement Repo then it should allow to upload with the same name in Test Design and Defect \\n None', start_char_idx=None, end_char_idx=None, text_template='{metadata_str}\\n\\n{content}', metadata_template='{key}: {value}', metadata_seperator='\\n'),\n",
       " Document(id_='e740d9cf-327f-4e3c-86f3-b7a91f58dd22', embedding=None, metadata={'id': '37728', 'title': 'User context with load more to be added to DB and displayed to user along with scenarios', 'url': 'https://tenjin-automation.atlassian.net/browse/TAC-294', 'created_at': '2024-06-07T12:02:53.861+0530', 'updated_at': '2024-06-07T12:03:00.696+0530', 'labels': [], 'status': 'To Do', 'assignee': '', 'reporter': '', 'project': 'Tenjin_ai_core', 'issue_type': 'Task', 'priority': 'Lowest', 'epic_key': '', 'epic_summary': '', 'epic_description': ''}, excluded_embed_metadata_keys=[], excluded_llm_metadata_keys=[], relationships={}, text='User context with load more to be added to DB and displayed to user along with scenarios \\n None', start_char_idx=None, end_char_idx=None, text_template='{metadata_str}\\n\\n{content}', metadata_template='{key}: {value}', metadata_seperator='\\n'),\n",
       " Document(id_='74d7bcb5-fbae-4df2-b031-31c5821700a5', embedding=None, metadata={'id': '37726', 'title': 'sample issue created - testing the capability and integration with llama index', 'url': 'https://tenjin-automation.atlassian.net/browse/TAC-293', 'created_at': '2024-06-07T11:37:44.794+0530', 'updated_at': '2024-06-07T11:37:45.938+0530', 'labels': [], 'status': 'To Do', 'assignee': '', 'reporter': '', 'project': 'Tenjin_ai_core', 'issue_type': 'Story', 'priority': 'Lowest', 'epic_key': '', 'epic_summary': '', 'epic_description': ''}, excluded_embed_metadata_keys=[], excluded_llm_metadata_keys=[], relationships={}, text='sample issue created - testing the capability and integration with llama index \\n h1. Lorem Ipsum\\n\\nh4. _\"Neque porro quisquam est qui dolorem ipsum quia dolor sit amet, consectetur, adipisci velit...\"_\\n\\nh5. \"There is no one who loves pain itself, who seeks after it and wants to have it, simply because it is pain...\"\\n\\n----\\n\\nh2. What is Lorem Ipsum?\\n\\n*Lorem Ipsum* is simply dummy text of the printing and typesetting industry. Lorem Ipsum has been the industry\\'s standard dummy text ever since the 1500s, when an unknown printer took a galley of type and scrambled it to make a type specimen book. It has survived not only five centuries, but also the leap into electronic typesetting, remaining essentially unchanged. It was popularised in the 1960s with the release of Letraset sheets containing Lorem Ipsum passages, and more recently with desktop publishing software like Aldus PageMaker including versions of Lorem Ipsum\\n\\n\\n\\n\\n\\n!image-20240607-060531.png|width=536,height=354,alt=\"image-20240607-060531.png\"!\\n\\n\\n\\n||Company||Contact||Country||\\n|Alfreds Futterkiste|Maria Anders|Germany|\\n|Centro comercial Moctezuma|Francisco Chang|Mexico|\\n|Ernst Handel|Roland Mendel|Austria|\\n|Island Trading|Helen Bennett|UK|\\n|Laughing Bacchus Winecellars|Yoshi Tannamuri|Canada|\\n|Magazzini Alimentari Riuniti|Giovanni Rovelli|Italy|', start_char_idx=None, end_char_idx=None, text_template='{metadata_str}\\n\\n{content}', metadata_template='{key}: {value}', metadata_seperator='\\n'),\n",
       " Document(id_='800c0dc7-7a53-48d0-9035-11a40484a2e9', embedding=None, metadata={'id': '37635', 'title': 'Flow chart diagram-based test design', 'url': 'https://tenjin-automation.atlassian.net/browse/TAC-292', 'created_at': '2024-06-05T12:19:20.955+0530', 'updated_at': '2024-06-17T13:07:39.052+0530', 'labels': [], 'status': 'To Do', 'assignee': '', 'reporter': '', 'project': 'Tenjin_ai_core', 'issue_type': 'Task', 'priority': 'Lowest', 'epic_key': '', 'epic_summary': '', 'epic_description': ''}, excluded_embed_metadata_keys=[], excluded_llm_metadata_keys=[], relationships={}, text='Flow chart diagram-based test design \\n None', start_char_idx=None, end_char_idx=None, text_template='{metadata_str}\\n\\n{content}', metadata_template='{key}: {value}', metadata_seperator='\\n'),\n",
       " Document(id_='52f2021b-83e5-4b27-a08b-4b5df15f9591', embedding=None, metadata={'id': '37628', 'title': 'Along with free text, coverage checkpoints to be provided during generate more scenarios', 'url': 'https://tenjin-automation.atlassian.net/browse/TAC-291', 'created_at': '2024-06-05T11:10:27.396+0530', 'updated_at': '2024-06-17T13:05:24.626+0530', 'labels': [], 'status': 'To Do', 'assignee': '', 'reporter': '', 'project': 'Tenjin_ai_core', 'issue_type': 'Task', 'priority': 'Lowest', 'epic_key': '', 'epic_summary': '', 'epic_description': ''}, excluded_embed_metadata_keys=[], excluded_llm_metadata_keys=[], relationships={}, text='Along with free text, coverage checkpoints to be provided during generate more scenarios \\n None', start_char_idx=None, end_char_idx=None, text_template='{metadata_str}\\n\\n{content}', metadata_template='{key}: {value}', metadata_seperator='\\n'),\n",
       " Document(id_='f36e2ee3-b071-4473-b219-ca472bc9d8d3', embedding=None, metadata={'id': '37627', 'title': 'refactoring RAG based on suggested changes', 'url': 'https://tenjin-automation.atlassian.net/browse/TAC-290', 'created_at': '2024-06-05T11:06:48.447+0530', 'updated_at': '2024-06-17T13:08:39.452+0530', 'labels': [], 'status': 'Done', 'assignee': '', 'reporter': '', 'project': 'Tenjin_ai_core', 'issue_type': 'Task', 'priority': 'Lowest', 'epic_key': '', 'epic_summary': '', 'epic_description': ''}, excluded_embed_metadata_keys=[], excluded_llm_metadata_keys=[], relationships={}, text='refactoring RAG based on suggested changes \\n None', start_char_idx=None, end_char_idx=None, text_template='{metadata_str}\\n\\n{content}', metadata_template='{key}: {value}', metadata_seperator='\\n'),\n",
       " Document(id_='c97b7db0-954e-4300-8af2-064674378cdc', embedding=None, metadata={'id': '37534', 'title': 'Self-healing with GPT - 4.o', 'url': 'https://tenjin-automation.atlassian.net/browse/TAC-289', 'created_at': '2024-06-03T11:49:22.834+0530', 'updated_at': '2024-06-03T11:49:38.426+0530', 'labels': [], 'status': 'To Do', 'assignee': '', 'reporter': '', 'project': 'Tenjin_ai_core', 'issue_type': 'Task', 'priority': 'Lowest', 'epic_key': '', 'epic_summary': '', 'epic_description': ''}, excluded_embed_metadata_keys=[], excluded_llm_metadata_keys=[], relationships={}, text='Self-healing with GPT - 4.o \\n None', start_char_idx=None, end_char_idx=None, text_template='{metadata_str}\\n\\n{content}', metadata_template='{key}: {value}', metadata_seperator='\\n'),\n",
       " Document(id_='e5f88b04-c631-4e45-b07b-f9ccbf3e0370', embedding=None, metadata={'id': '37533', 'title': 'Testing of test case generation API integration with online', 'url': 'https://tenjin-automation.atlassian.net/browse/TAC-288', 'created_at': '2024-06-03T11:45:57.215+0530', 'updated_at': '2024-06-03T11:49:49.704+0530', 'labels': [], 'status': 'In Progress', 'assignee': '', 'reporter': '', 'project': 'Tenjin_ai_core', 'issue_type': 'Task', 'priority': 'Lowest', 'epic_key': '', 'epic_summary': '', 'epic_description': ''}, excluded_embed_metadata_keys=[], excluded_llm_metadata_keys=[], relationships={}, text='Testing of test case generation API integration with online \\n None', start_char_idx=None, end_char_idx=None, text_template='{metadata_str}\\n\\n{content}', metadata_template='{key}: {value}', metadata_seperator='\\n'),\n",
       " Document(id_='f937495e-3209-4477-a074-790a4305338c', embedding=None, metadata={'id': '37532', 'title': 'User should be able to go back and select different set of scenarios to generate test cases', 'url': 'https://tenjin-automation.atlassian.net/browse/TAC-287', 'created_at': '2024-06-03T11:42:41.628+0530', 'updated_at': '2024-06-05T11:03:15.440+0530', 'labels': [], 'status': 'To Do', 'assignee': '', 'reporter': '', 'project': 'Tenjin_ai_core', 'issue_type': 'Task', 'priority': 'Lowest', 'epic_key': '', 'epic_summary': '', 'epic_description': ''}, excluded_embed_metadata_keys=[], excluded_llm_metadata_keys=[], relationships={}, text='User should be able to go back and select different set of scenarios to generate test cases \\n None', start_char_idx=None, end_char_idx=None, text_template='{metadata_str}\\n\\n{content}', metadata_template='{key}: {value}', metadata_seperator='\\n'),\n",
       " Document(id_='17427d6f-52df-4d79-b69e-a586b7a9bcc5', embedding=None, metadata={'id': '37531', 'title': 'System prompts and user prompts are getting combined', 'url': 'https://tenjin-automation.atlassian.net/browse/TAC-286', 'created_at': '2024-06-03T11:41:38.790+0530', 'updated_at': '2024-06-17T12:15:15.944+0530', 'labels': [], 'status': 'To Do', 'assignee': '', 'reporter': '', 'project': 'Tenjin_ai_core', 'issue_type': 'Bug', 'priority': 'Lowest', 'epic_key': '', 'epic_summary': '', 'epic_description': ''}, excluded_embed_metadata_keys=[], excluded_llm_metadata_keys=[], relationships={}, text='System prompts and user prompts are getting combined \\n None', start_char_idx=None, end_char_idx=None, text_template='{metadata_str}\\n\\n{content}', metadata_template='{key}: {value}', metadata_seperator='\\n'),\n",
       " Document(id_='a18a71c5-20cc-4ade-9102-be7c06e457ca', embedding=None, metadata={'id': '37530', 'title': 'Generate more test cases button to be enabled ', 'url': 'https://tenjin-automation.atlassian.net/browse/TAC-285', 'created_at': '2024-06-03T11:39:36.137+0530', 'updated_at': '2024-06-05T11:04:15.800+0530', 'labels': [], 'status': 'To Do', 'assignee': '', 'reporter': '', 'project': 'Tenjin_ai_core', 'issue_type': 'Task', 'priority': 'Lowest', 'epic_key': '', 'epic_summary': '', 'epic_description': ''}, excluded_embed_metadata_keys=[], excluded_llm_metadata_keys=[], relationships={}, text='Generate more test cases button to be enabled  \\n None', start_char_idx=None, end_char_idx=None, text_template='{metadata_str}\\n\\n{content}', metadata_template='{key}: {value}', metadata_seperator='\\n'),\n",
       " Document(id_='77b332f7-e043-4928-9495-1107bd721e10', embedding=None, metadata={'id': '37529', 'title': 'Pagination', 'url': 'https://tenjin-automation.atlassian.net/browse/TAC-284', 'created_at': '2024-06-03T11:38:07.852+0530', 'updated_at': '2024-06-17T13:06:38.777+0530', 'labels': [], 'status': 'To Do', 'assignee': '', 'reporter': '', 'project': 'Tenjin_ai_core', 'issue_type': 'Task', 'priority': 'Lowest', 'epic_key': '', 'epic_summary': '', 'epic_description': ''}, excluded_embed_metadata_keys=[], excluded_llm_metadata_keys=[], relationships={}, text='Pagination \\n None', start_char_idx=None, end_char_idx=None, text_template='{metadata_str}\\n\\n{content}', metadata_template='{key}: {value}', metadata_seperator='\\n'),\n",
       " Document(id_='a5587668-536b-4971-8d0f-0578fadb17ca', embedding=None, metadata={'id': '37528', 'title': 'File upload API should accept multiple files at once', 'url': 'https://tenjin-automation.atlassian.net/browse/TAC-283', 'created_at': '2024-06-03T11:37:50.007+0530', 'updated_at': '2024-06-17T12:14:53.083+0530', 'labels': [], 'status': 'Done', 'assignee': '', 'reporter': '', 'project': 'Tenjin_ai_core', 'issue_type': 'Task', 'priority': 'Lowest', 'epic_key': '', 'epic_summary': '', 'epic_description': ''}, excluded_embed_metadata_keys=[], excluded_llm_metadata_keys=[], relationships={}, text='File upload API should accept multiple files at once \\n None', start_char_idx=None, end_char_idx=None, text_template='{metadata_str}\\n\\n{content}', metadata_template='{key}: {value}', metadata_seperator='\\n'),\n",
       " Document(id_='f53b3c92-aa5f-4c4f-aaa9-b4e7a96fdfd7', embedding=None, metadata={'id': '37491', 'title': 'User should upload multiple files at a time', 'url': 'https://tenjin-automation.atlassian.net/browse/TAC-282', 'created_at': '2024-05-30T18:26:46.901+0530', 'updated_at': '2024-06-07T11:41:46.525+0530', 'labels': [], 'status': 'Done', 'assignee': '', 'reporter': '', 'project': 'Tenjin_ai_core', 'issue_type': 'Task', 'priority': 'Lowest', 'epic_key': '', 'epic_summary': '', 'epic_description': ''}, excluded_embed_metadata_keys=[], excluded_llm_metadata_keys=[], relationships={}, text='User should upload multiple files at a time \\n None', start_char_idx=None, end_char_idx=None, text_template='{metadata_str}\\n\\n{content}', metadata_template='{key}: {value}', metadata_seperator='\\n'),\n",
       " Document(id_='191318a4-63f8-40c7-b5b8-efe497024af2', embedding=None, metadata={'id': '37465', 'title': 'Test Scenario Count is incorrectly displayed while generating Test Scenarios', 'url': 'https://tenjin-automation.atlassian.net/browse/TAC-281', 'created_at': '2024-05-29T16:02:30.220+0530', 'updated_at': '2024-06-06T14:50:08.791+0530', 'labels': [], 'status': 'Done', 'assignee': '', 'reporter': '', 'project': 'Tenjin_ai_core', 'issue_type': 'Bug', 'priority': 'Lowest', 'epic_key': '', 'epic_summary': '', 'epic_description': ''}, excluded_embed_metadata_keys=[], excluded_llm_metadata_keys=[], relationships={}, text='Test Scenario Count is incorrectly displayed while generating Test Scenarios \\n Overall Count is incorrectly displayed while generating Test Scenarios.\\n\\nPlease refer the Screenshot', start_char_idx=None, end_char_idx=None, text_template='{metadata_str}\\n\\n{content}', metadata_template='{key}: {value}', metadata_seperator='\\n'),\n",
       " Document(id_='8bfc8137-c6f3-4aaf-84f0-9db29fef3401', embedding=None, metadata={'id': '37451', 'title': 'No of Test Scenarios and cases generated were Inconsistent for the same Requirement document', 'url': 'https://tenjin-automation.atlassian.net/browse/TAC-280', 'created_at': '2024-05-28T15:54:53.920+0530', 'updated_at': '2024-06-06T14:50:49.062+0530', 'labels': [], 'status': 'Done', 'assignee': '', 'reporter': '', 'project': 'Tenjin_ai_core', 'issue_type': 'Bug', 'priority': 'Lowest', 'epic_key': '', 'epic_summary': '', 'epic_description': ''}, excluded_embed_metadata_keys=[], excluded_llm_metadata_keys=[], relationships={}, text='No of Test Scenarios and cases generated were Inconsistent for the same Requirement document \\n No of Test Scenarios and cases generated were Inconsistent for the same Requirement document.\\n\\n\\n\\nEg: \\n\\nDay 1 Coverage matrix generated 231 Test Scenarios and 935 Test Cases were generated.\\n\\nDay 2: 72 Test Scenarios are generated, and 267 Test Cases were generated.', start_char_idx=None, end_char_idx=None, text_template='{metadata_str}\\n\\n{content}', metadata_template='{key}: {value}', metadata_seperator='\\n'),\n",
       " Document(id_='70858bc0-e895-483d-b3fa-b801ee389e5e', embedding=None, metadata={'id': '37450', 'title': 'Test Data Not captured for Coverage Matrix.  Only for BRD its captured', 'url': 'https://tenjin-automation.atlassian.net/browse/TAC-279', 'created_at': '2024-05-28T15:50:35.083+0530', 'updated_at': '2024-06-06T14:51:01.821+0530', 'labels': [], 'status': 'To Do', 'assignee': '', 'reporter': '', 'project': 'Tenjin_ai_core', 'issue_type': 'Bug', 'priority': 'Lowest', 'epic_key': '', 'epic_summary': '', 'epic_description': ''}, excluded_embed_metadata_keys=[], excluded_llm_metadata_keys=[], relationships={}, text='Test Data Not captured for Coverage Matrix.  Only for BRD its captured \\n Test Data Not captured for Coverage Matrix.   The column updated with blank data.\\n\\nOnly for BRD its captured.', start_char_idx=None, end_char_idx=None, text_template='{metadata_str}\\n\\n{content}', metadata_template='{key}: {value}', metadata_seperator='\\n'),\n",
       " Document(id_='a2e87055-a4d7-49a9-8a9b-ff3111816c1b', embedding=None, metadata={'id': '37392', 'title': 'Scenarios and Cases were partially captured', 'url': 'https://tenjin-automation.atlassian.net/browse/TAC-278', 'created_at': '2024-05-27T09:13:59.389+0530', 'updated_at': '2024-06-06T14:51:10.195+0530', 'labels': [], 'status': 'To Do', 'assignee': '', 'reporter': '', 'project': 'Tenjin_ai_core', 'issue_type': 'Bug', 'priority': 'Lowest', 'epic_key': '', 'epic_summary': '', 'epic_description': ''}, excluded_embed_metadata_keys=[], excluded_llm_metadata_keys=[], relationships={}, text='Scenarios and Cases were partially captured \\n Please find critical Issues observations below with the attachments.\\n\\n\\xa0\\n\\n# Scenario missed for creating View option to check the status of the import bills.(EXIM_iDCTF_2.2, 4.1)\\n# Import Letter of Credit issuance Issue date - Scenario captured but test cases generated for normal checks like \"the date should be in dd-mm-yyy column\" and not generated for actual requirement like \"back value date, future date and current date\".(Import LC_design A10,A11,A12)\\n# System should generate AMND event, CLIQ event in Import \"\"Letter of Credit\"\" \\xa0Amendments after authorization -Missing test case.(Import LC_design A38)\\n# CLOS event should generate after \"\"Letter of Credit\"\" Cancellation - Test Case not generated for CLOS event.(Import LC_design A49).', start_char_idx=None, end_char_idx=None, text_template='{metadata_str}\\n\\n{content}', metadata_template='{key}: {value}', metadata_seperator='\\n'),\n",
       " Document(id_='4eace7f6-38e3-4f4e-9c38-ac384f682452', embedding=None, metadata={'id': '37372', 'title': 'Scenarios incorrectly generated when two different applications are mapped in a table.', 'url': 'https://tenjin-automation.atlassian.net/browse/TAC-277', 'created_at': '2024-05-24T17:05:19.405+0530', 'updated_at': '2024-06-06T14:51:39.725+0530', 'labels': [], 'status': 'Done', 'assignee': '', 'reporter': '', 'project': 'Tenjin_ai_core', 'issue_type': 'Bug', 'priority': 'Lowest', 'epic_key': '', 'epic_summary': '', 'epic_description': ''}, excluded_embed_metadata_keys=[], excluded_llm_metadata_keys=[], relationships={}, text=\"Scenarios incorrectly generated when two different applications are mapped in a table. \\n # Scenarios are captured by mixing two applications (Online Banking and Mobile Banking). When document has common requirement for two Applications Scenario's should be generated for each Application separately.\\n# Scenarios are captured by mixing two user types and Incorrect scenario Mapping for Users\\nExample: Retail user and corporate user cases are covered under same Scenarios.\\n# When BRD has Region Specific Functionalities, Scenarios should capture specific to each region. as of now it is not considered.\\n\\n\\n\\nPlease refer the below section in the attached BRD.\\n\\nSection 2.2 - Page Number 13.\\n\\nSection 3.1.3 - Page Number 14\", start_char_idx=None, end_char_idx=None, text_template='{metadata_str}\\n\\n{content}', metadata_template='{key}: {value}', metadata_seperator='\\n'),\n",
       " Document(id_='a2b45aff-47b6-47c2-9c74-d03341eada68', embedding=None, metadata={'id': '37371', 'title': 'Scenarios not captured from the Table but captured the requirement before and after table.', 'url': 'https://tenjin-automation.atlassian.net/browse/TAC-276', 'created_at': '2024-05-24T17:04:36.786+0530', 'updated_at': '2024-06-06T14:51:56.929+0530', 'labels': [], 'status': 'Done', 'assignee': '', 'reporter': '', 'project': 'Tenjin_ai_core', 'issue_type': 'Bug', 'priority': 'Lowest', 'epic_key': '', 'epic_summary': '', 'epic_description': ''}, excluded_embed_metadata_keys=[], excluded_llm_metadata_keys=[], relationships={}, text='Scenarios not captured from the Table but captured the requirement before and after table. \\n Scenarios are not captured for the requirement in the Table (Page Number 10).  Ther requirements before and after were captured.', start_char_idx=None, end_char_idx=None, text_template='{metadata_str}\\n\\n{content}', metadata_template='{key}: {value}', metadata_seperator='\\n'),\n",
       " Document(id_='8f7898f6-b73b-43c5-922e-ccb390f5e103', embedding=None, metadata={'id': '37370', 'title': 'Scenarios not properly captured when the requirement is having OBLIQUE.', 'url': 'https://tenjin-automation.atlassian.net/browse/TAC-275', 'created_at': '2024-05-24T17:02:19.802+0530', 'updated_at': '2024-06-06T14:48:37.122+0530', 'labels': [], 'status': 'To Do', 'assignee': '', 'reporter': '', 'project': 'Tenjin_ai_core', 'issue_type': 'Bug', 'priority': 'Lowest', 'epic_key': '', 'epic_summary': '', 'epic_description': ''}, excluded_embed_metadata_keys=[], excluded_llm_metadata_keys=[], relationships={}, text='Scenarios not properly captured when the requirement is having OBLIQUE. \\n Section 6.1.1 Forward slash sign is missing from the sentences. \\n\\nSentences extracted without the oblique slanting line and space (Point 6 - words are merged)', start_char_idx=None, end_char_idx=None, text_template='{metadata_str}\\n\\n{content}', metadata_template='{key}: {value}', metadata_seperator='\\n'),\n",
       " Document(id_='5c2e5017-5807-4e46-baf8-860f984df439', embedding=None, metadata={'id': '37369', 'title': 'Inconsistent in Coverage of Requirement', 'url': 'https://tenjin-automation.atlassian.net/browse/TAC-274', 'created_at': '2024-05-24T17:02:07.625+0530', 'updated_at': '2024-06-06T14:47:37.065+0530', 'labels': [], 'status': 'To Do', 'assignee': '', 'reporter': '', 'project': 'Tenjin_ai_core', 'issue_type': 'Bug', 'priority': 'Lowest', 'epic_key': '', 'epic_summary': '', 'epic_description': ''}, excluded_embed_metadata_keys=[], excluded_llm_metadata_keys=[], relationships={}, text='Inconsistent in Coverage of Requirement \\n Scenarios not captured from the below sections in the requirement document\\n\\n5.1.4 to 5.1.7\\n\\nAttached the documents including the requirement and input and out put files', start_char_idx=None, end_char_idx=None, text_template='{metadata_str}\\n\\n{content}', metadata_template='{key}: {value}', metadata_seperator='\\n'),\n",
       " Document(id_='f4a5252d-bac9-48e4-94dc-600f0a214338', embedding=None, metadata={'id': '37365', 'title': 'Users should define the number of scenarios (Optional parameters)', 'url': 'https://tenjin-automation.atlassian.net/browse/TAC-272', 'created_at': '2024-05-24T15:54:31.010+0530', 'updated_at': '2024-06-03T11:35:25.287+0530', 'labels': [], 'status': 'Done', 'assignee': '', 'reporter': '', 'project': 'Tenjin_ai_core', 'issue_type': 'Task', 'priority': 'Lowest', 'epic_key': '', 'epic_summary': '', 'epic_description': ''}, excluded_embed_metadata_keys=[], excluded_llm_metadata_keys=[], relationships={}, text='Users should define the number of scenarios (Optional parameters) \\n None', start_char_idx=None, end_char_idx=None, text_template='{metadata_str}\\n\\n{content}', metadata_template='{key}: {value}', metadata_seperator='\\n'),\n",
       " Document(id_='8bfd6c7f-1406-4432-a12a-a27fac9f56f1', embedding=None, metadata={'id': '37364', 'title': 'Generate more test cases button', 'url': 'https://tenjin-automation.atlassian.net/browse/TAC-271', 'created_at': '2024-05-24T15:49:41.668+0530', 'updated_at': '2024-06-17T13:06:57.470+0530', 'labels': [], 'status': 'To Do', 'assignee': '', 'reporter': '', 'project': 'Tenjin_ai_core', 'issue_type': 'Bug', 'priority': 'Lowest', 'epic_key': '', 'epic_summary': '', 'epic_description': ''}, excluded_embed_metadata_keys=[], excluded_llm_metadata_keys=[], relationships={}, text='Generate more test cases button \\n None', start_char_idx=None, end_char_idx=None, text_template='{metadata_str}\\n\\n{content}', metadata_template='{key}: {value}', metadata_seperator='\\n'),\n",
       " Document(id_='1183bc8d-0be1-4f31-8729-c07fb2f3b5f0', embedding=None, metadata={'id': '37256', 'title': 'Take db name from env var', 'url': 'https://tenjin-automation.atlassian.net/browse/TAC-269', 'created_at': '2024-05-20T11:05:38.582+0530', 'updated_at': '2024-06-06T14:43:06.663+0530', 'labels': [], 'status': 'Done', 'assignee': '', 'reporter': '', 'project': 'Tenjin_ai_core', 'issue_type': 'Bug', 'priority': 'Lowest', 'epic_key': '', 'epic_summary': '', 'epic_description': ''}, excluded_embed_metadata_keys=[], excluded_llm_metadata_keys=[], relationships={}, text='Take db name from env var \\n None', start_char_idx=None, end_char_idx=None, text_template='{metadata_str}\\n\\n{content}', metadata_template='{key}: {value}', metadata_seperator='\\n'),\n",
       " Document(id_='6f475e04-1372-423c-8f9a-a951bfede7ed', embedding=None, metadata={'id': '37222', 'title': 'Auto scaling', 'url': 'https://tenjin-automation.atlassian.net/browse/TAC-268', 'created_at': '2024-05-17T11:24:16.144+0530', 'updated_at': '2024-05-28T11:40:10.661+0530', 'labels': [], 'status': 'Done', 'assignee': '', 'reporter': '', 'project': 'Tenjin_ai_core', 'issue_type': 'Bug', 'priority': 'Lowest', 'epic_key': '', 'epic_summary': '', 'epic_description': ''}, excluded_embed_metadata_keys=[], excluded_llm_metadata_keys=[], relationships={}, text='Auto scaling \\n None', start_char_idx=None, end_char_idx=None, text_template='{metadata_str}\\n\\n{content}', metadata_template='{key}: {value}', metadata_seperator='\\n'),\n",
       " Document(id_='d6ac28a5-a7ee-44f0-8033-e8c418df1dbd', embedding=None, metadata={'id': '37221', 'title': 'Rerun API integration', 'url': 'https://tenjin-automation.atlassian.net/browse/TAC-267', 'created_at': '2024-05-17T11:14:34.591+0530', 'updated_at': '2024-05-21T17:34:46.344+0530', 'labels': [], 'status': 'Done', 'assignee': '', 'reporter': '', 'project': 'Tenjin_ai_core', 'issue_type': 'Task', 'priority': 'Lowest', 'epic_key': '', 'epic_summary': '', 'epic_description': ''}, excluded_embed_metadata_keys=[], excluded_llm_metadata_keys=[], relationships={}, text='Rerun API integration \\n None', start_char_idx=None, end_char_idx=None, text_template='{metadata_str}\\n\\n{content}', metadata_template='{key}: {value}', metadata_seperator='\\n'),\n",
       " Document(id_='ae7b91f0-13d0-4d73-bce6-26419cd5ceb5', embedding=None, metadata={'id': '37220', 'title': 'Revoke and grant access to user in edit user page', 'url': 'https://tenjin-automation.atlassian.net/browse/TAC-266', 'created_at': '2024-05-17T11:14:04.346+0530', 'updated_at': '2024-05-21T17:26:23.150+0530', 'labels': [], 'status': 'Done', 'assignee': '', 'reporter': '', 'project': 'Tenjin_ai_core', 'issue_type': 'Task', 'priority': 'Lowest', 'epic_key': '', 'epic_summary': '', 'epic_description': ''}, excluded_embed_metadata_keys=[], excluded_llm_metadata_keys=[], relationships={}, text='Revoke and grant access to user in edit user page \\n None', start_char_idx=None, end_char_idx=None, text_template='{metadata_str}\\n\\n{content}', metadata_template='{key}: {value}', metadata_seperator='\\n'),\n",
       " Document(id_='4149a746-fa01-4a6a-81c6-0208a8bc232c', embedding=None, metadata={'id': '37219', 'title': 'Grant and revoke users \\\\', 'url': 'https://tenjin-automation.atlassian.net/browse/TAC-265', 'created_at': '2024-05-17T11:13:31.815+0530', 'updated_at': '2024-05-21T17:26:19.473+0530', 'labels': [], 'status': 'Done', 'assignee': '', 'reporter': '', 'project': 'Tenjin_ai_core', 'issue_type': 'Task', 'priority': 'Lowest', 'epic_key': '', 'epic_summary': '', 'epic_description': ''}, excluded_embed_metadata_keys=[], excluded_llm_metadata_keys=[], relationships={}, text='Grant and revoke users \\\\ \\n None', start_char_idx=None, end_char_idx=None, text_template='{metadata_str}\\n\\n{content}', metadata_template='{key}: {value}', metadata_seperator='\\n'),\n",
       " Document(id_='cd7ddc87-0c7a-42b2-ba54-1340984fe3d4', embedding=None, metadata={'id': '37180', 'title': 'If generation is faild, have to give Retry option', 'url': 'https://tenjin-automation.atlassian.net/browse/TAC-263', 'created_at': '2024-05-16T11:51:01.085+0530', 'updated_at': '2024-05-17T11:32:38.267+0530', 'labels': [], 'status': 'Done', 'assignee': '', 'reporter': '', 'project': 'Tenjin_ai_core', 'issue_type': 'Task', 'priority': 'Lowest', 'epic_key': '', 'epic_summary': '', 'epic_description': ''}, excluded_embed_metadata_keys=[], excluded_llm_metadata_keys=[], relationships={}, text='If generation is faild, have to give Retry option \\n None', start_char_idx=None, end_char_idx=None, text_template='{metadata_str}\\n\\n{content}', metadata_template='{key}: {value}', metadata_seperator='\\n'),\n",
       " Document(id_='16f0ee1b-c239-4d82-acee-616427ab16c0', embedding=None, metadata={'id': '37179', 'title': 'openai_key  key error', 'url': 'https://tenjin-automation.atlassian.net/browse/TAC-262', 'created_at': '2024-05-16T11:48:44.559+0530', 'updated_at': '2024-05-16T11:48:45.013+0530', 'labels': [], 'status': 'Done', 'assignee': '', 'reporter': '', 'project': 'Tenjin_ai_core', 'issue_type': 'Bug', 'priority': 'Lowest', 'epic_key': '', 'epic_summary': '', 'epic_description': ''}, excluded_embed_metadata_keys=[], excluded_llm_metadata_keys=[], relationships={}, text='openai_key  key error \\n ', start_char_idx=None, end_char_idx=None, text_template='{metadata_str}\\n\\n{content}', metadata_template='{key}: {value}', metadata_seperator='\\n'),\n",
       " Document(id_='9bbf5c37-377e-478e-a5a8-29e047698be4', embedding=None, metadata={'id': '37174', 'title': 'Send file id in response. Refer the screenshot', 'url': 'https://tenjin-automation.atlassian.net/browse/TAC-261', 'created_at': '2024-05-15T19:09:18.740+0530', 'updated_at': '2024-05-16T12:32:57.666+0530', 'labels': [], 'status': 'Done', 'assignee': '', 'reporter': '', 'project': 'Tenjin_ai_core', 'issue_type': 'Bug', 'priority': 'Lowest', 'epic_key': '', 'epic_summary': '', 'epic_description': ''}, excluded_embed_metadata_keys=[], excluded_llm_metadata_keys=[], relationships={}, text='Send file id in response. Refer the screenshot \\n None', start_char_idx=None, end_char_idx=None, text_template='{metadata_str}\\n\\n{content}', metadata_template='{key}: {value}', metadata_seperator='\\n'),\n",
       " Document(id_='b6b14b0d-cbf2-42f9-bfbe-843d5a43c853', embedding=None, metadata={'id': '37163', 'title': 'File Name is repeating multiple times. Refer the screenshot', 'url': 'https://tenjin-automation.atlassian.net/browse/TAC-260', 'created_at': '2024-05-15T12:15:30.522+0530', 'updated_at': '2024-05-15T19:08:43.046+0530', 'labels': [], 'status': 'Done', 'assignee': '', 'reporter': '', 'project': 'Tenjin_ai_core', 'issue_type': 'Bug', 'priority': 'Lowest', 'epic_key': '', 'epic_summary': '', 'epic_description': ''}, excluded_embed_metadata_keys=[], excluded_llm_metadata_keys=[], relationships={}, text='File Name is repeating multiple times. Refer the screenshot \\n \\n\\n!image-20240515-064452.png|width=1095,height=581,alt=\"image-20240515-064452.png\"!', start_char_idx=None, end_char_idx=None, text_template='{metadata_str}\\n\\n{content}', metadata_template='{key}: {value}', metadata_seperator='\\n'),\n",
       " Document(id_='139550fe-bb9e-4def-8b3b-0fafc3a3e331', embedding=None, metadata={'id': '37148', 'title': 'Tracebility Data is not coming from API for every scenario', 'url': 'https://tenjin-automation.atlassian.net/browse/TAC-259', 'created_at': '2024-05-14T17:41:48.830+0530', 'updated_at': '2024-05-24T16:59:18.599+0530', 'labels': [], 'status': 'To Do', 'assignee': '', 'reporter': '', 'project': 'Tenjin_ai_core', 'issue_type': 'Bug', 'priority': 'Lowest', 'epic_key': '', 'epic_summary': '', 'epic_description': ''}, excluded_embed_metadata_keys=[], excluded_llm_metadata_keys=[], relationships={}, text='Tracebility Data is not coming from API for every scenario \\n \\n\\n!image-20240514-120956.png|width=1224,height=497,alt=\"image-20240514-120956.png\"!', start_char_idx=None, end_char_idx=None, text_template='{metadata_str}\\n\\n{content}', metadata_template='{key}: {value}', metadata_seperator='\\n'),\n",
       " Document(id_='9a1128af-b6a0-4605-953d-3afc292f9130', embedding=None, metadata={'id': '37094', 'title': 'Deduplication and Order of test cases', 'url': 'https://tenjin-automation.atlassian.net/browse/TAC-258', 'created_at': '2024-05-13T18:02:05.598+0530', 'updated_at': '2024-05-17T11:21:16.752+0530', 'labels': [], 'status': 'Done', 'assignee': '', 'reporter': '', 'project': 'Tenjin_ai_core', 'issue_type': 'Bug', 'priority': 'Lowest', 'epic_key': '', 'epic_summary': '', 'epic_description': ''}, excluded_embed_metadata_keys=[], excluded_llm_metadata_keys=[], relationships={}, text='Deduplication and Order of test cases \\n None', start_char_idx=None, end_char_idx=None, text_template='{metadata_str}\\n\\n{content}', metadata_template='{key}: {value}', metadata_seperator='\\n'),\n",
       " Document(id_='3c6b53b4-9b03-4c72-b734-233e72a47682', embedding=None, metadata={'id': '37048', 'title': 'Delete Assistant and related storage', 'url': 'https://tenjin-automation.atlassian.net/browse/TAC-257', 'created_at': '2024-05-13T13:01:45.536+0530', 'updated_at': '2024-05-22T10:54:33.272+0530', 'labels': [], 'status': 'Done', 'assignee': '', 'reporter': '', 'project': 'Tenjin_ai_core', 'issue_type': 'Bug', 'priority': 'Lowest', 'epic_key': '', 'epic_summary': '', 'epic_description': ''}, excluded_embed_metadata_keys=[], excluded_llm_metadata_keys=[], relationships={}, text='Delete Assistant and related storage \\n None', start_char_idx=None, end_char_idx=None, text_template='{metadata_str}\\n\\n{content}', metadata_template='{key}: {value}', metadata_seperator='\\n'),\n",
       " Document(id_='e19e62ac-ef92-4927-af2b-15401e6d5249', embedding=None, metadata={'id': '37046', 'title': 'Order of design with coverage matrix', 'url': 'https://tenjin-automation.atlassian.net/browse/TAC-256', 'created_at': '2024-05-13T12:29:15.121+0530', 'updated_at': '2024-06-17T12:09:51.749+0530', 'labels': [], 'status': 'To Do', 'assignee': '', 'reporter': '', 'project': 'Tenjin_ai_core', 'issue_type': 'Bug', 'priority': 'Lowest', 'epic_key': '', 'epic_summary': '', 'epic_description': ''}, excluded_embed_metadata_keys=[], excluded_llm_metadata_keys=[], relationships={}, text='Order of design with coverage matrix \\n None', start_char_idx=None, end_char_idx=None, text_template='{metadata_str}\\n\\n{content}', metadata_template='{key}: {value}', metadata_seperator='\\n'),\n",
       " Document(id_='a17474e6-3b86-4271-b0c3-f553874272e1', embedding=None, metadata={'id': '37045', 'title': 'Duplication of test cases in test design', 'url': 'https://tenjin-automation.atlassian.net/browse/TAC-255', 'created_at': '2024-05-13T12:28:40.824+0530', 'updated_at': '2024-06-06T14:43:21.715+0530', 'labels': [], 'status': 'Done', 'assignee': '', 'reporter': '', 'project': 'Tenjin_ai_core', 'issue_type': 'Bug', 'priority': 'Lowest', 'epic_key': '', 'epic_summary': '', 'epic_description': ''}, excluded_embed_metadata_keys=[], excluded_llm_metadata_keys=[], relationships={}, text='Duplication of test cases in test design \\n None', start_char_idx=None, end_char_idx=None, text_template='{metadata_str}\\n\\n{content}', metadata_template='{key}: {value}', metadata_seperator='\\n'),\n",
       " Document(id_='215f544d-8c11-4596-8209-769a7f9c0636', embedding=None, metadata={'id': '37040', 'title': 'All columns should be exported during export design', 'url': 'https://tenjin-automation.atlassian.net/browse/TAC-254', 'created_at': '2024-05-13T11:16:27.090+0530', 'updated_at': '2024-05-13T12:12:45.321+0530', 'labels': [], 'status': 'Done', 'assignee': '', 'reporter': '', 'project': 'Tenjin_ai_core', 'issue_type': 'Bug', 'priority': 'Lowest', 'epic_key': '', 'epic_summary': '', 'epic_description': ''}, excluded_embed_metadata_keys=[], excluded_llm_metadata_keys=[], relationships={}, text='All columns should be exported during export design \\n None', start_char_idx=None, end_char_idx=None, text_template='{metadata_str}\\n\\n{content}', metadata_template='{key}: {value}', metadata_seperator='\\n'),\n",
       " Document(id_='d7a682f4-2ed4-4a24-bc73-ef47696175f2', embedding=None, metadata={'id': '37039', 'title': 'File download and preview', 'url': 'https://tenjin-automation.atlassian.net/browse/TAC-253', 'created_at': '2024-05-13T11:06:22.811+0530', 'updated_at': '2024-05-16T19:15:18.393+0530', 'labels': [], 'status': 'Done', 'assignee': '', 'reporter': '', 'project': 'Tenjin_ai_core', 'issue_type': 'Task', 'priority': 'Lowest', 'epic_key': '', 'epic_summary': '', 'epic_description': ''}, excluded_embed_metadata_keys=[], excluded_llm_metadata_keys=[], relationships={}, text='File download and preview \\n None', start_char_idx=None, end_char_idx=None, text_template='{metadata_str}\\n\\n{content}', metadata_template='{key}: {value}', metadata_seperator='\\n'),\n",
       " Document(id_='73976b76-dc07-42f9-b14f-cb7e2a96006c', embedding=None, metadata={'id': '36997', 'title': 'Relevant messages to be displayed on failed scenarios and test cases', 'url': 'https://tenjin-automation.atlassian.net/browse/TAC-252', 'created_at': '2024-05-09T12:58:13.412+0530', 'updated_at': '2024-05-24T16:59:28.136+0530', 'labels': [], 'status': 'To Do', 'assignee': '', 'reporter': '', 'project': 'Tenjin_ai_core', 'issue_type': 'Bug', 'priority': 'Lowest', 'epic_key': '', 'epic_summary': '', 'epic_description': ''}, excluded_embed_metadata_keys=[], excluded_llm_metadata_keys=[], relationships={}, text='Relevant messages to be displayed on failed scenarios and test cases \\n None', start_char_idx=None, end_char_idx=None, text_template='{metadata_str}\\n\\n{content}', metadata_template='{key}: {value}', metadata_seperator='\\n')]"
      ]
     },
     "execution_count": 20,
     "metadata": {},
     "output_type": "execute_result"
    }
   ],
   "source": [
    "documents"
   ]
  },
  {
   "cell_type": "code",
   "execution_count": null,
   "id": "18f26a90-b6a8-43da-bb8a-685b233a41b1",
   "metadata": {},
   "outputs": [],
   "source": []
  },
  {
   "cell_type": "code",
   "execution_count": 15,
   "id": "e311dc87-57ff-4ed3-9170-e1865d5cc224",
   "metadata": {},
   "outputs": [
    {
     "name": "stdout",
     "output_type": "stream",
     "text": [
      "id: 37743\n",
      "title: Test Scenario or Cases are not generated in sequence as per the requirement document\n",
      "url: https://tenjin-automation.atlassian.net/browse/TAC-298\n",
      "created_at: 2024-06-10T10:34:00.885+0530\n",
      "updated_at: 2024-06-10T10:34:01.063+0530\n",
      "labels: []\n",
      "status: To Do\n",
      "assignee: \n",
      "reporter: \n",
      "project: Tenjin_ai_core\n",
      "issue_type: Bug\n",
      "priority: Lowest\n",
      "epic_key: \n",
      "epic_summary: \n",
      "epic_description: \n"
     ]
    }
   ],
   "source": [
    "# Parsing individual parameters\n",
    "for key, value in documents[0].metadata.items():\n",
    "    print(f\"{key}: {value}\")"
   ]
  },
  {
   "cell_type": "code",
   "execution_count": 14,
   "id": "8136efde-c711-4d61-ad0c-da0d1bf11f8d",
   "metadata": {
    "scrolled": true
   },
   "outputs": [
    {
     "name": "stdout",
     "output_type": "stream",
     "text": [
      "Test Scenario or Cases are not generated in sequence as per the requirement document\n",
      "delete tenant API is not working\n",
      "User should upload the file with the exsisting uploaded file name but It overrride the data with current file\n",
      "File is uploaded in Requirement Repo then it should allow to upload with the same name in Test Design and Defect\n",
      "User context with load more to be added to DB and displayed to user along with scenarios\n",
      "sample issue created - testing the capability and integration with llama index\n",
      "Flow chart diagram-based test design\n",
      "Along with free text, coverage checkpoints to be provided during generate more scenarios\n",
      "refactoring RAG based on suggested changes\n",
      "Self-healing with GPT - 4.o\n",
      "Testing of test case generation API integration with online\n",
      "User should be able to go back and select different set of scenarios to generate test cases\n",
      "System prompts and user prompts are getting combined\n",
      "Generate more test cases button to be enabled \n",
      "Pagination\n",
      "File upload API should accept multiple files at once\n",
      "User should upload multiple files at a time\n",
      "Test Scenario Count is incorrectly displayed while generating Test Scenarios\n",
      "No of Test Scenarios and cases generated were Inconsistent for the same Requirement document\n",
      "Test Data Not captured for Coverage Matrix.  Only for BRD its captured\n",
      "Scenarios and Cases were partially captured\n",
      "Scenarios incorrectly generated when two different applications are mapped in a table.\n",
      "Scenarios not captured from the Table but captured the requirement before and after table.\n",
      "Scenarios not properly captured when the requirement is having OBLIQUE.\n",
      "Inconsistent in Coverage of Requirement\n",
      "Users should define the number of scenarios (Optional parameters)\n",
      "Generate more test cases button\n",
      "Take db name from env var\n",
      "Auto scaling\n",
      "Rerun API integration\n",
      "Revoke and grant access to user in edit user page\n",
      "Grant and revoke users \\\n",
      "If generation is faild, have to give Retry option\n",
      "openai_key  key error\n",
      "Send file id in response. Refer the screenshot\n",
      "File Name is repeating multiple times. Refer the screenshot\n",
      "Tracebility Data is not coming from API for every scenario\n",
      "Deduplication and Order of test cases\n",
      "Delete Assistant and related storage\n",
      "Order of design with coverage matrix\n",
      "Duplication of test cases in test design\n",
      "All columns should be exported during export design\n",
      "File download and preview\n",
      "Relevant messages to be displayed on failed scenarios and test cases\n",
      "Delete the Duplicate from Review page show only once\n",
      "Count metrics to be added in design (#no of scenarios, test cases and steps)\n",
      "Pagination\n",
      "API for file preview\n",
      "Project details page to be implemented\n",
      "Edit user API should provide first name and last name with grant access\n"
     ]
    }
   ],
   "source": [
    "for document in documents:\n",
    "    print (document.metadata['title']) "
   ]
  },
  {
   "cell_type": "code",
   "execution_count": 17,
   "id": "57f8891f-b581-498f-a9cf-6b1c6d94b914",
   "metadata": {},
   "outputs": [
    {
     "data": {
      "text/plain": [
       "{'id': '37736',\n",
       " 'title': 'delete tenant API is not working',\n",
       " 'url': 'https://tenjin-automation.atlassian.net/browse/TAC-297',\n",
       " 'created_at': '2024-06-07T15:44:43.782+0530',\n",
       " 'updated_at': '2024-06-07T15:44:44.435+0530',\n",
       " 'labels': [],\n",
       " 'status': 'To Do',\n",
       " 'assignee': '',\n",
       " 'reporter': '',\n",
       " 'project': 'Tenjin_ai_core',\n",
       " 'issue_type': 'Bug',\n",
       " 'priority': 'Lowest',\n",
       " 'epic_key': '',\n",
       " 'epic_summary': '',\n",
       " 'epic_description': ''}"
      ]
     },
     "execution_count": 17,
     "metadata": {},
     "output_type": "execute_result"
    }
   ],
   "source": [
    "documents[1].metadata["
   ]
  },
  {
   "cell_type": "code",
   "execution_count": 16,
   "id": "5f848ed7-87ac-4527-b096-4e8f19650084",
   "metadata": {},
   "outputs": [
    {
     "data": {
      "text/plain": [
       "Document(id_='cf567415-1c5e-49c9-997a-002489d5f52a', embedding=None, metadata={'id': '37736', 'title': 'delete tenant API is not working', 'url': 'https://tenjin-automation.atlassian.net/browse/TAC-297', 'created_at': '2024-06-07T15:44:43.782+0530', 'updated_at': '2024-06-07T15:44:44.435+0530', 'labels': [], 'status': 'To Do', 'assignee': '', 'reporter': '', 'project': 'Tenjin_ai_core', 'issue_type': 'Bug', 'priority': 'Lowest', 'epic_key': '', 'epic_summary': '', 'epic_description': ''}, excluded_embed_metadata_keys=[], excluded_llm_metadata_keys=[], relationships={}, text='delete tenant API is not working \\n None', start_char_idx=None, end_char_idx=None, text_template='{metadata_str}\\n\\n{content}', metadata_template='{key}: {value}', metadata_seperator='\\n')"
      ]
     },
     "execution_count": 16,
     "metadata": {},
     "output_type": "execute_result"
    }
   ],
   "source": [
    "documents[1]"
   ]
  },
  {
   "cell_type": "code",
   "execution_count": null,
   "id": "ce664cf6-03dc-404b-a158-9e74548b1e4d",
   "metadata": {},
   "outputs": [],
   "source": [
    "https://tenjin-automation.atlassian.net/jira/software/projects/TAC/boards/55?selectedIssue=TAC-293"
   ]
  },
  {
   "cell_type": "code",
   "execution_count": 20,
   "id": "c32a0e02-bed3-469b-940c-2aae38dd247b",
   "metadata": {},
   "outputs": [
    {
     "name": "stdout",
     "output_type": "stream",
     "text": [
      "Selected Document Title: sample issue created - testing the capability and integration with llama index\n"
     ]
    }
   ],
   "source": [
    "# The URL you want to match\n",
    "target_url = 'https://tenjin-automation.atlassian.net/browse/TAC-293'\n",
    "\n",
    "# Find the document with the matching URL\n",
    "selected_document = next((doc for doc in documents if doc.metadata['url'] == target_url), None)\n",
    "\n",
    "if selected_document:\n",
    "    print(f\"Selected Document Title: {selected_document.metadata['title']}\")\n",
    "else:\n",
    "    print(\"No document found with the given URL.\")"
   ]
  },
  {
   "cell_type": "code",
   "execution_count": 9,
   "id": "cdb39148-5279-4f27-bc25-e2ad1a9154da",
   "metadata": {},
   "outputs": [
    {
     "ename": "SyntaxError",
     "evalue": "unmatched '}' (2618000464.py, line 1)",
     "output_type": "error",
     "traceback": [
      "\u001b[1;36m  Cell \u001b[1;32mIn[9], line 1\u001b[1;36m\u001b[0m\n\u001b[1;33m    selected_document.metadata['title']}\u001b[0m\n\u001b[1;37m                                       ^\u001b[0m\n\u001b[1;31mSyntaxError\u001b[0m\u001b[1;31m:\u001b[0m unmatched '}'\n"
     ]
    }
   ],
   "source": [
    "selected_document.metadata['title']}"
   ]
  },
  {
   "cell_type": "code",
   "execution_count": 1,
   "id": "11b868aa-5fa2-41d6-9afe-596d3ab6de67",
   "metadata": {},
   "outputs": [
    {
     "ename": "NameError",
     "evalue": "name 'BaseSettings' is not defined",
     "output_type": "error",
     "traceback": [
      "\u001b[1;31m---------------------------------------------------------------------------\u001b[0m",
      "\u001b[1;31mNameError\u001b[0m                                 Traceback (most recent call last)",
      "Cell \u001b[1;32mIn[1], line 1\u001b[0m\n\u001b[1;32m----> 1\u001b[0m \u001b[38;5;28;01mclass\u001b[39;00m \u001b[38;5;21;01mScenarioPrompt\u001b[39;00m(\u001b[43mBaseSettings\u001b[49m):\n\u001b[0;32m      2\u001b[0m     system_template: \u001b[38;5;28mstr\u001b[39m \u001b[38;5;241m=\u001b[39m \u001b[38;5;124m\"\"\"\u001b[39m\u001b[38;5;124mYou are helpful assistant for test design, Please  combine  and generate all different possible meaningful test scenarios. Don\u001b[39m\u001b[38;5;124m'\u001b[39m\u001b[38;5;124mt change process name.\u001b[39m\u001b[38;5;124m\"\"\"\u001b[39m\n\u001b[0;32m      3\u001b[0m     context_system_template: \u001b[38;5;28mstr\u001b[39m \u001b[38;5;241m=\u001b[39m \u001b[38;5;124m\"\"\"\u001b[39m\u001b[38;5;124mYou are helpful assistant for test design, Please  combine  and generate all different possible meaningful test scenarios,use this  context \u001b[39m\u001b[38;5;130;01m\\n\u001b[39;00m\u001b[38;5;124m \u001b[39m\u001b[38;5;132;01m{context}\u001b[39;00m\u001b[38;5;124m \u001b[39m\u001b[38;5;130;01m\\n\u001b[39;00m\u001b[38;5;124m to get more understanding.Strictly generate in this JSON format process (Dont change process name) as key and list of scenarios as value.\u001b[39m\u001b[38;5;124m\"\"\"\u001b[39m\n",
      "\u001b[1;31mNameError\u001b[0m: name 'BaseSettings' is not defined"
     ]
    }
   ],
   "source": [
    "class ScenarioPrompt(BaseSettings):\n",
    "    system_template: str = \"\"\"You are helpful assistant for test design, Please  combine  and generate all different possible meaningful test scenarios. Don't change process name.\"\"\"\n",
    "    context_system_template: str = \"\"\"You are helpful assistant for test design, Please  combine  and generate all different possible meaningful test scenarios,use this  context \\n {context} \\n to get more understanding.Strictly generate in this JSON format process (Dont change process name) as key and list of scenarios as value.\"\"\"\n",
    "    json_format : str = '{{\"test_scenarios\": [{{\"process\": process_name, \"scenarios\": [ \"list of generated scenarios\"]}}, {{\"process\": process_name, \"scenarios\": [ \"list of generated scenarios\"]}}]}}'\n",
    "    # human_template: str = \"\"\"{business_process_data} \\n Above dictonary contains process,scenario,list of features. \\n Generate {scen_count} meaningful test scenarios and avoid redundancy and duplication, generate test scenarios only nothing else. \\n Strictly generate in this JSON format, : {json_format} \"\"\"\n",
    "    human_template : str = \"\"\" {business_process_data} \\n Above dictonary contains multiple dictionaries, each dictinary has  process,scenario,list of features. \\n {scen_count} meaningful test scenarios and avoid redundancy and duplication, \\n dont change the processes order and don't generate irrelevent scenarios, \\n generate test scenarios only nothing else. \\n Strictly generate in this JSON format, : {json_format}\"\"\"\n",
    "    temp_human_template : str = \"\"\n",
    "    load_more_template :str = \"generate some more new possible scenarios {context}, don't generate duplication and irrelevant scenarios, if not able to generate more scenarios give empty.\""
   ]
  },
  {
   "cell_type": "code",
   "execution_count": 2,
   "id": "2ea831a7-0dae-4580-b584-07ed5d164a04",
   "metadata": {},
   "outputs": [
    {
     "data": {
      "text/plain": [
       "True"
      ]
     },
     "execution_count": 2,
     "metadata": {},
     "output_type": "execute_result"
    }
   ],
   "source": [
    "import warnings\n",
    "\n",
    "import dotenv\n",
    "warnings.filterwarnings(\"ignore\", category=UserWarning)\n",
    "dotenv.load_dotenv()"
   ]
  },
  {
   "cell_type": "code",
   "execution_count": 3,
   "id": "cd830031-e697-470c-8335-cb9175de9015",
   "metadata": {},
   "outputs": [
    {
     "name": "stdout",
     "output_type": "stream",
     "text": [
      "ChatCompletionMessage(content=\"In the world of code, there is a wondrous art,\\nA concept mysterious, playing a vital part.\\nRecursion it's called, a loop in disguise,\\nUnraveling problems with mathematical ties.\\n\\nLike a mirror reflecting itself endlessly,\\nA function calls itself, a cycle of continuity.\\nBreaking down tasks into smaller bits,\\nFor solving complex problems, it's a perfect fit.\\n\\nA journey through layers, deeper we delve,\\nEach call a story, a narrative to tell.\\nWith base cases as anchors, stopping the fall,\\nRecursive beauty, unraveling it all.\\n\\nJust like nature's patterns, from trees to shells,\\nInfinite beauty in its repetitive spells.\\nSo embrace recursion, let your code bloom,\\nA poetic dance, in the programmers' room.\", role='assistant', function_call=None, tool_calls=None)\n"
     ]
    }
   ],
   "source": [
    "from openai import OpenAI\n",
    "client = OpenAI()\n",
    "\n",
    "completion = client.chat.completions.create(\n",
    "  model=\"gpt-3.5-turbo\",\n",
    "  messages=[\n",
    "    {\"role\": \"system\", \"content\": \"You are a poetic assistant, skilled in explaining complex programming concepts with creative flair.\"},\n",
    "    {\"role\": \"user\", \"content\": \"Compose a poem that explains the concept of recursion in programming.\"}\n",
    "      \n",
    "  ]\n",
    ")\n",
    "\n",
    "print(completion.choices[0].message)"
   ]
  },
  {
   "cell_type": "code",
   "execution_count": null,
   "id": "3b2ca1a0-11f2-4d9b-bd96-3d122ccb3b71",
   "metadata": {},
   "outputs": [],
   "source": [
    "from openai import OpenAI\n",
    "client = OpenAI()\n",
    "\n",
    "completion = client.chat.completions.create(\n",
    "  model=\"gpt-3.5-turbo\",\n",
    "  messages=[\n",
    "    {\"role\": \"system\", \"content\": \"You are helpful assistant for test design, Please  combine  and generate all different possible meaningful test scenarios. Don't change process name.\"},\n",
    "    {\"role\": \"user\", \"content\": \"You are helpful assistant for test design, Please  combine  and generate all different possible meaningful test scenarios,use this  context \\n {context} \\n to get more understanding.Strictly generate in this JSON format process (Dont change process name) as key and list of scenarios as value.\"}\n",
    "      \n",
    "  ]\n",
    ")\n",
    "\n",
    "print(completion.choices[0].message)"
   ]
  },
  {
   "cell_type": "code",
   "execution_count": 8,
   "id": "e9a282ec-0aee-42a4-971a-3db5e91ea758",
   "metadata": {},
   "outputs": [
    {
     "data": {
      "text/plain": [
       "Choice(finish_reason='stop', index=0, logprobs=None, message=ChatCompletionMessage(content=\"In the world of code, there is a wondrous art,\\nA concept mysterious, playing a vital part.\\nRecursion it's called, a loop in disguise,\\nUnraveling problems with mathematical ties.\\n\\nLike a mirror reflecting itself endlessly,\\nA function calls itself, a cycle of continuity.\\nBreaking down tasks into smaller bits,\\nFor solving complex problems, it's a perfect fit.\\n\\nA journey through layers, deeper we delve,\\nEach call a story, a narrative to tell.\\nWith base cases as anchors, stopping the fall,\\nRecursive beauty, unraveling it all.\\n\\nJust like nature's patterns, from trees to shells,\\nInfinite beauty in its repetitive spells.\\nSo embrace recursion, let your code bloom,\\nA poetic dance, in the programmers' room.\", role='assistant', function_call=None, tool_calls=None))"
      ]
     },
     "execution_count": 8,
     "metadata": {},
     "output_type": "execute_result"
    }
   ],
   "source": [
    "documents[0].metadata['title']"
   ]
  },
  {
   "cell_type": "code",
   "execution_count": 38,
   "id": "b95ee04a-6475-442a-8500-b4fbd4e0b6eb",
   "metadata": {},
   "outputs": [
    {
     "data": {
      "text/plain": [
       "'User should upload multiple files at a time'"
      ]
     },
     "execution_count": 38,
     "metadata": {},
     "output_type": "execute_result"
    }
   ],
   "source": [
    "documents[16].metadata['title']"
   ]
  },
  {
   "cell_type": "code",
   "execution_count": 39,
   "id": "bca9fd23-d0f9-4ff0-a34e-e8a3613b30e9",
   "metadata": {},
   "outputs": [],
   "source": [
    "context = documents[16].metadata['title']"
   ]
  },
  {
   "cell_type": "code",
   "execution_count": 19,
   "id": "7309b22e-b1fd-4797-966b-eb20a7002f25",
   "metadata": {},
   "outputs": [
    {
     "name": "stdout",
     "output_type": "stream",
     "text": [
      "ChatCompletionMessage(content='{\\n    \"process\": [\\n        \"Verify that the context is properly utilized in the test design process.\",\\n        \"Test if all possible combinations of input data from the context are considered in the test scenarios.\",\\n        \"Verify that the test scenarios cover both positive and negative paths based on the context information.\",\\n        \"Test the boundary values of the context data to ensure the robustness of the test cases.\",\\n        \"Verify that any constraints mentioned in the context are reflected in the test scenarios.\",\\n        \"Verify that the expected outcomes of the test scenarios align with the context information provided.\"\\n    ]\\n}', role='assistant', function_call=None, tool_calls=None)\n"
     ]
    }
   ],
   "source": [
    "from openai import OpenAI\n",
    "client = OpenAI()\n",
    "\n",
    "completion = client.chat.completions.create(\n",
    "  model=\"gpt-3.5-turbo\",\n",
    "  messages=[\n",
    "    {\"role\": \"system\", \"content\": \"You are helpful assistant for test design, Please  combine  and generate all different possible meaningful test scenarios. Don't change process name.\"},\n",
    "    {\"role\": \"user\", \"content\": \"You are helpful assistant for test design, Please  combine  and generate all different possible meaningful test scenarios,use this  context \\n{context}\\n to get more understanding.Strictly generate in this JSON format process (Dont change process name) as key and list of scenarios as value.\"}\n",
    "      \n",
    "  ]\n",
    ")\n",
    "\n",
    "print(completion.choices[0].message)"
   ]
  },
  {
   "cell_type": "code",
   "execution_count": 41,
   "id": "438a95a3-92f2-4d4b-8100-de06efd058bf",
   "metadata": {},
   "outputs": [
    {
     "data": {
      "text/plain": [
       "'User should upload multiple files at a time'"
      ]
     },
     "execution_count": 41,
     "metadata": {},
     "output_type": "execute_result"
    }
   ],
   "source": [
    "# Assuming you have the context stored in a variable called 'context'\n",
    "documents[16].metadata['title']\n"
   ]
  },
  {
   "cell_type": "code",
   "execution_count": 40,
   "id": "4993ed42-fc3e-490b-894f-990040b7662a",
   "metadata": {},
   "outputs": [
    {
     "name": "stdout",
     "output_type": "stream",
     "text": [
      "ChatCompletionMessage(content='{\\n    \"process\": \"User should upload multiple files at a time\",\\n    \"scenarios\": [\\n        \"User selects and uploads two files simultaneously\",\\n        \"User uploads three files at once\",\\n        \"User tries to upload four files together\",\\n        \"User exceeds the maximum allowed number of file uploads while trying to upload multiple files\",\\n        \"User cancels the file upload process after selecting multiple files\",\\n        \"User uploads a mix of file types simultaneously (e.g., one image file and one document file)\",\\n        \"User encounters an error while uploading multiple files and retries the process\",\\n        \"User successfully completes the upload of multiple large files within the specified time limit\"\\n    ]\\n}', role='assistant', function_call=None, tool_calls=None)\n"
     ]
    }
   ],
   "source": [
    "from openai import OpenAI\n",
    "\n",
    "# Assuming you have the context stored in a variable called 'context'\n",
    "context = documents[16].metadata['title']\n",
    "\n",
    "\n",
    "# Initialize the OpenAI client\n",
    "client = OpenAI()\n",
    "\n",
    "# Create a chat completion with the modified prompt\n",
    "completion = client.chat.completions.create(\n",
    "    model=\"gpt-3.5-turbo\",\n",
    "    messages=[\n",
    "        {\"role\": \"system\", \"content\": \"You are helpful assistant for test design, Please combine and generate all different possible meaningful test scenarios. Don't change process name.\"},\n",
    "        {\"role\": \"user\", \"content\": f\"You are helpful assistant for test design, Please combine and generate all different possible meaningful test scenarios. Use this context:\\n{context}\\nStrictly generate in this JSON format: process (Don't change process name) as the key and a list of scenarios as the value.\"}\n",
    "    ]\n",
    ")\n",
    "\n",
    "# Print the response\n",
    "print(completion.choices[0].message)\n"
   ]
  },
  {
   "cell_type": "code",
   "execution_count": 50,
   "id": "e82589d2-edb4-42f6-bcba-d3ddbd6ff333",
   "metadata": {},
   "outputs": [
    {
     "data": {
      "text/plain": [
       "'{\\n    \"process\": \"User should upload multiple files at a time\",\\n    \"scenarios\": [\\n        \"User selects and uploads two files simultaneously\",\\n        \"User uploads three files at once\",\\n        \"User tries to upload four files together\",\\n        \"User exceeds the maximum allowed number of file uploads while trying to upload multiple files\",\\n        \"User cancels the file upload process after selecting multiple files\",\\n        \"User uploads a mix of file types simultaneously (e.g., one image file and one document file)\",\\n        \"User encounters an error while uploading multiple files and retries the process\",\\n        \"User successfully completes the upload of multiple large files within the specified time limit\"\\n    ]\\n}'"
      ]
     },
     "execution_count": 50,
     "metadata": {},
     "output_type": "execute_result"
    }
   ],
   "source": [
    "completion.choices[0].message.dict()[\"content\"]"
   ]
  },
  {
   "cell_type": "code",
   "execution_count": null,
   "id": "9a7f8689-03b9-4002-9c5c-8c87940c4fde",
   "metadata": {},
   "outputs": [],
   "source": []
  },
  {
   "cell_type": "code",
   "execution_count": 25,
   "id": "1bf71430-1228-4269-ad10-b2120b54ad4e",
   "metadata": {},
   "outputs": [
    {
     "ename": "AttributeError",
     "evalue": "'ChatCompletionMessage' object has no attribute 'split'",
     "output_type": "error",
     "traceback": [
      "\u001b[1;31m---------------------------------------------------------------------------\u001b[0m",
      "\u001b[1;31mAttributeError\u001b[0m                            Traceback (most recent call last)",
      "Cell \u001b[1;32mIn[25], line 5\u001b[0m\n\u001b[0;32m      2\u001b[0m response \u001b[38;5;241m=\u001b[39m completion\u001b[38;5;241m.\u001b[39mchoices[\u001b[38;5;241m0\u001b[39m]\u001b[38;5;241m.\u001b[39mmessage\n\u001b[0;32m      4\u001b[0m \u001b[38;5;66;03m# Split the response by newline characters\u001b[39;00m\n\u001b[1;32m----> 5\u001b[0m output_list \u001b[38;5;241m=\u001b[39m \u001b[43mresponse\u001b[49m\u001b[38;5;241;43m.\u001b[39;49m\u001b[43msplit\u001b[49m(\u001b[38;5;124m\"\u001b[39m\u001b[38;5;130;01m\\n\u001b[39;00m\u001b[38;5;124m\"\u001b[39m)\n\u001b[0;32m      7\u001b[0m \u001b[38;5;66;03m# Print the list\u001b[39;00m\n\u001b[0;32m      8\u001b[0m \u001b[38;5;28;01mfor\u001b[39;00m item \u001b[38;5;129;01min\u001b[39;00m output_list:\n",
      "File \u001b[1;32m~\\Downloads\\tenjin-ai\\jira-integration\\jiraiya\\venv\\Lib\\site-packages\\pydantic\\main.py:811\u001b[0m, in \u001b[0;36mBaseModel.__getattr__\u001b[1;34m(self, item)\u001b[0m\n\u001b[0;32m    808\u001b[0m     \u001b[38;5;28;01mreturn\u001b[39;00m \u001b[38;5;28msuper\u001b[39m()\u001b[38;5;241m.\u001b[39m\u001b[38;5;21m__getattribute__\u001b[39m(item)  \u001b[38;5;66;03m# Raises AttributeError if appropriate\u001b[39;00m\n\u001b[0;32m    809\u001b[0m \u001b[38;5;28;01melse\u001b[39;00m:\n\u001b[0;32m    810\u001b[0m     \u001b[38;5;66;03m# this is the current error\u001b[39;00m\n\u001b[1;32m--> 811\u001b[0m     \u001b[38;5;28;01mraise\u001b[39;00m \u001b[38;5;167;01mAttributeError\u001b[39;00m(\u001b[38;5;124mf\u001b[39m\u001b[38;5;124m'\u001b[39m\u001b[38;5;132;01m{\u001b[39;00m\u001b[38;5;28mtype\u001b[39m(\u001b[38;5;28mself\u001b[39m)\u001b[38;5;241m.\u001b[39m\u001b[38;5;18m__name__\u001b[39m\u001b[38;5;132;01m!r}\u001b[39;00m\u001b[38;5;124m object has no attribute \u001b[39m\u001b[38;5;132;01m{\u001b[39;00mitem\u001b[38;5;132;01m!r}\u001b[39;00m\u001b[38;5;124m'\u001b[39m)\n",
      "\u001b[1;31mAttributeError\u001b[0m: 'ChatCompletionMessage' object has no attribute 'split'"
     ]
    }
   ],
   "source": [
    "# Assuming 'response' contains the completion output\n",
    "response = completion.choices[0].message\n",
    "\n",
    "# Split the response by newline characters\n",
    "output_list = response.split(\"\\n\")\n",
    "\n",
    "# Print the list\n",
    "for item in output_list:\n",
    "    print(item)\n"
   ]
  },
  {
   "cell_type": "code",
   "execution_count": 35,
   "id": "eb2bfb87-aa6d-49db-951f-9bbe4c97b86b",
   "metadata": {},
   "outputs": [
    {
     "ename": "KeyError",
     "evalue": "'process'",
     "output_type": "error",
     "traceback": [
      "\u001b[1;31m---------------------------------------------------------------------------\u001b[0m",
      "\u001b[1;31mKeyError\u001b[0m                                  Traceback (most recent call last)",
      "Cell \u001b[1;32mIn[35], line 9\u001b[0m\n\u001b[0;32m      6\u001b[0m parsed_data \u001b[38;5;241m=\u001b[39m json\u001b[38;5;241m.\u001b[39mloads(json_response)\n\u001b[0;32m      8\u001b[0m \u001b[38;5;66;03m# Access the list of scenarios\u001b[39;00m\n\u001b[1;32m----> 9\u001b[0m scenarios \u001b[38;5;241m=\u001b[39m \u001b[43mparsed_data\u001b[49m\u001b[43m[\u001b[49m\u001b[38;5;124;43m\"\u001b[39;49m\u001b[38;5;124;43mprocess\u001b[39;49m\u001b[38;5;124;43m\"\u001b[39;49m\u001b[43m]\u001b[49m\n\u001b[0;32m     11\u001b[0m \u001b[38;5;66;03m# Print each scenario\u001b[39;00m\n\u001b[0;32m     12\u001b[0m \u001b[38;5;28;01mfor\u001b[39;00m idx, scenario \u001b[38;5;129;01min\u001b[39;00m \u001b[38;5;28menumerate\u001b[39m(scenarios, start\u001b[38;5;241m=\u001b[39m\u001b[38;5;241m1\u001b[39m):\n",
      "\u001b[1;31mKeyError\u001b[0m: 'process'"
     ]
    }
   ],
   "source": [
    "import json\n",
    "\n",
    "json_response = completion.choices[0].json()\n",
    "\n",
    "# Convert the JSON string to a Python dictionary\n",
    "parsed_data = json.loads(json_response)\n",
    "\n",
    "# Access the list of scenarios\n",
    "scenarios = parsed_data[\"process\"]\n",
    "\n",
    "# Print each scenario\n",
    "for idx, scenario in enumerate(scenarios, start=1):\n",
    "    print(f\"Scenario {idx}: {scenario}\")"
   ]
  },
  {
   "cell_type": "code",
   "execution_count": 34,
   "id": "bdb1096a-95f3-4b54-a761-5326b128f87e",
   "metadata": {},
   "outputs": [
    {
     "data": {
      "text/plain": [
       "'{\"finish_reason\":\"stop\",\"index\":0,\"logprobs\":null,\"message\":{\"content\":\"{\\\\n  \\\\\"process\\\\\": [\\\\n    \\\\\"User uploads a file with the existing uploaded file name and the data in the current file overrides the existing data successfully\\\\\",\\\\n    \\\\\"User attempts to upload a file with the same name as the existing uploaded file but encounters an error message indicating that the file already exists and the data was not overridden\\\\\",\\\\n    \\\\\"User tries to upload a file with a different name than the existing uploaded file, successfully adds a new file without overriding any existing data\\\\\",\\\\n    \\\\\"User uploads a file with the existing uploaded file name but encounters an unexpected system error, preventing the data from being overridden\\\\\"\\\\n  ]\\\\n}\",\"role\":\"assistant\",\"function_call\":null,\"tool_calls\":null}}'"
      ]
     },
     "execution_count": 34,
     "metadata": {},
     "output_type": "execute_result"
    }
   ],
   "source": [
    "response = completion.choices[0].json()\n",
    "response"
   ]
  },
  {
   "cell_type": "code",
   "execution_count": null,
   "id": "b6530b38-ccd9-4f70-9dad-71cffeaaa4ba",
   "metadata": {},
   "outputs": [],
   "source": [
    "class CoverageMatrix(Base):\n",
    "    __tablename__ = 'ytc_jiraissues'\n",
    "    id = Column(String, primary_key=True )\n",
    "    title = Column(String)\n",
    "    url = Column(String)\n",
    "    created_at = Column(DateTime)\n",
    "    updated_at = Column(DateTime)\n",
    "\n",
    "    labels = Column(String)\n",
    "    url = Column(String)\n",
    "    title = Column(String)\n",
    "    url = Column(String)\n",
    "\n",
    "    file_id = Column(Integer, ForeignKey('ytc_files.id'))\n",
    "\n",
    "    filter_cm = relationship(\"FilterCM\",back_populates=\"cm\")\n",
    "    file = relationship(\"FileStorage\", back_populates = \"coverage_matrix\")\n",
    "\n",
    "\n",
    "{'id': '37736',\n",
    " 'title': 'delete tenant API is not working',\n",
    " 'url': 'https://tenjin-automation.atlassian.net/browse/TAC-297',\n",
    " 'created_at': '2024-06-07T15:44:43.782+0530',\n",
    " 'updated_at': '2024-06-07T15:44:44.435+0530',\n",
    " 'labels': [],\n",
    " 'status': 'To Do',\n",
    " 'assignee': '',\n",
    " 'reporter': '',\n",
    " 'project': 'Tenjin_ai_core',\n",
    " 'issue_type': 'Bug',\n",
    " 'priority': 'Lowest',\n",
    " 'epic_key': '',\n",
    " 'epic_summary': '',\n",
    " 'epic_description': ''}"
   ]
  }
 ],
 "metadata": {
  "kernelspec": {
   "display_name": "Python 3 (ipykernel)",
   "language": "python",
   "name": "python3"
  },
  "language_info": {
   "codemirror_mode": {
    "name": "ipython",
    "version": 3
   },
   "file_extension": ".py",
   "mimetype": "text/x-python",
   "name": "python",
   "nbconvert_exporter": "python",
   "pygments_lexer": "ipython3",
   "version": "3.11.0"
  }
 },
 "nbformat": 4,
 "nbformat_minor": 5
}
